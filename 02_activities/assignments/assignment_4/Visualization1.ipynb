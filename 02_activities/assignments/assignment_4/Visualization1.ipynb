{
 "cells": [
  {
   "cell_type": "code",
   "execution_count": null,
   "metadata": {},
   "outputs": [],
   "source": [
    "import pandas as pd\n",
    "import matplotlib.pyplot as plt\n",
    "import seaborn as sns\n",
    "\n",
    "# Loading my dataset\n",
    "df = pd.read_csv(filepath)\n",
    "\n",
    "# Data cleaning: Selecting relevant columns and handling missing values\n",
    "df = df[['Location', 'Capacity']].dropna()\n",
    "\n",
    "# Creating a bar chart of top 10 locations by capacity\n",
    "top_locations = df.groupby('Location')['Capacity'].sum().nlargest(10).reset_index()\n",
    "\n",
    "# Visualization1 using Seaborn\n",
    "plt.figure(figsize=(10, 6))\n",
    "sns.barplot(data=top_locations, x='Capacity', y='Location', palette='viridis')\n",
    "plt.title('Top 10 Locations by Childcare Capacity')\n",
    "plt.xlabel('Total Capacity')\n",
    "plt.ylabel('Location')\n",
    "plt.tight_layout()\n",
    "plt.show()"
   ]
  }
 ],
 "metadata": {
  "kernelspec": {
   "display_name": "dsi_participant",
   "language": "python",
   "name": "python3"
  },
  "language_info": {
   "name": "python",
   "version": "3.9.15"
  }
 },
 "nbformat": 4,
 "nbformat_minor": 2
}
