{
 "cells": [
  {
   "cell_type": "markdown",
   "metadata": {},
   "source": [
    "# Visualization 2 using Excel\n",
    "\n",
    "### Description\n",
    "This is a set of visualizations created using Excel for a Retail Sales Dataset. \n",
    "\n",
    "\n",
    "\n",
    "What software did you use to create your data visualization?\n",
    "I used Microsoft Excel to create a set of graphs for Visualization 2.\n",
    "\n",
    "Who is your intended audience?\n",
    "Intended audience includes: the sales department, marketing department, finance department, and senior leadership team of Company XYZ (made up).\n",
    "\n",
    "What information or message are you trying to convey with your visualization?\n",
    "With this set of graphs, I am trying to convey to the audience the following metrics:\n",
    "1. Total annual revenue earned in 2023 (file titled 'Visualization2.0.png')\n",
    "2. The number of products sold for each category (file titled 'Visualization2.0.png')\n",
    "3. Breakdown of revenue by month as percent of total annual revenue (file titled 'Visualization2.1.png')\n",
    "4. A detailed breakdown of revenue in each quarter of 2023, broken down by gender first and then product category - along with total revenue through the year (file titled 'Visualization2.2.png')\n",
    "5. Breakdown of revenue by product category (file titled 'Visualization2.3.png')\n",
    "6. Revenue by gender and product category (in dollar amount)(file titled 'Visualization2.4.png')\n",
    "\n",
    "What design principles (substantive, perceptual, aesthetic) did you consider when making your visualization? How did you apply these principles? With what elements of your plots?\n",
    "\n",
    "\n",
    "How did you ensure that your data visualizations are reproducible? If the tool you used to make your data visualization is not reproducible, how will this impact your data visualization?\n",
    "\n",
    "How did you ensure that your data visualization is accessible?\n",
    "\n",
    "\n",
    "Who are the individuals and communities who might be impacted by your visualization?\n",
    "\n",
    "How did you choose which features of your chosen dataset to include or exclude from your visualization?\n",
    "\n",
    "\n",
    "What ‘underwater labour’ contributed to your final data visualization product?\n",
    "\n"
   ]
  }
 ],
 "metadata": {
  "language_info": {
   "name": "python"
  }
 },
 "nbformat": 4,
 "nbformat_minor": 2
}
