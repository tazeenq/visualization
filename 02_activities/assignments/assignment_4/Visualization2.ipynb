{
 "cells": [
  {
   "cell_type": "markdown",
   "metadata": {},
   "source": [
    "# Visualization 2 using Excel\n",
    "\n",
    "#### Description\n",
    "This is a set of five graphs, visualized using Microsoft Excel for a Retail Sales Dataset. \n",
    "\n",
    "#### What software did you use to create your data visualization?\n",
    "I used Microsoft Excel to create a set of graphs for Visualization 2.\n",
    "\n",
    "#### Who is your intended audience?\n",
    "Intended audience includes: the sales department, marketing department, finance department, and senior leadership team of Company XYZ (made up).\n",
    "\n",
    "#### What information or message are you trying to convey with your visualization?\n",
    "With this set of graphs, I am trying to convey to the audience the following metrics:\n",
    "1. Total annual revenue earned in 2023 (file titled 'Visualization2.0.png')\n",
    "2. The number of products sold for each category (file titled 'Visualization2.0.png')\n",
    "3. Breakdown of revenue by month as percent of total annual revenue (file titled 'Visualization2.1.png')\n",
    "4. A detailed breakdown of revenue in each quarter of 2023, broken down by gender first and then product category - along with total revenue through the year (file titled 'Visualization2.2.png')\n",
    "5. Breakdown of revenue by product category (file titled 'Visualization2.3.png')\n",
    "6. Revenue by gender and product category (in dollar amount)(file titled 'Visualization2.4.png')\n",
    "\n",
    "#### What design principles (substantive, perceptual, aesthetic) did you consider when making your visualization? How did you apply these principles? With what elements of your plots?\n",
    "I considered design principles with the following considerations in mind:\n",
    "- I made sure that the visualizations accurately represent the data by including clear labels, legends, and appropriate chart types (e.g., bar charts for comparisons, line charts for trends). These substantive consideraions ensure that the readers will understand the data at a glance​.\n",
    "- To enhance perceptual clarity, I used clean layouts with distinct geometric shapes and lines. This ensures that my audience can comprehend the message without confusion​.\n",
    "- For aesthetics, I used a complementary color palette (avoiding overly bright colors) to ensure that my visualizations are visually appealing and professional while minimizing cognitive load​.\n",
    "\n",
    "#### How did you ensure that your data visualizations are reproducible? If the tool you used to make your data visualization is not reproducible, how will this impact your data visualization?\n",
    "Overall, compared to using Python, I think reproducibility is slighlt more complicated when using Excel. While Excel can store formulas and data relationships, it lacks the transparency and traceability of Python workflow, where I can share the code with anyone and it will produce the same output.\n",
    "\n",
    "To circumvent this issue, I tried to separate sheets with formula and calculations and those with visual elements, so it is easier to trace where the numbers came from easily. 90% of the charts I used are also auto-generated in Excel, where I made aesthetic changes only. \n",
    "\n",
    "#### How did you ensure that your data visualization is accessible?\n",
    "I incorporated accessible design principles, such as providing legends, avoiding color reliance by including data labels, and using readable fonts and sizes​.\n",
    "I also Googled whether the color palette I used was against contrast standards for colorblindness compatibility.\n",
    "\n",
    "#### Who are the individuals and communities who might be impacted by your visualization?\n",
    "My visualizations can impact diverse stakeholders, including businesses analyzing sales trends and policymakers considering consumer behaviors. By emphasizing clarity and accessibility, I tried to make sure that my data insights are easy to understand for experts and common viewers.\n",
    "\n",
    "#### How did you choose which features of your chosen dataset to include or exclude from your visualization?\n",
    "I used a combination of numerical and categorical features from the dataset to highlight key features like gross revenue (total amount spent), product categories, and gender-based breakdowns. The features that I excluded were either not relevant (like Transaction ID or Customer ID) or would have made the set of graphs more complex than needed (like Price per Unit).\n",
    "\n",
    "#### What ‘underwater labour’ contributed to your final data visualization product?\n",
    "Underwater labour tasks that I had to do included: data cleaning, aggregating sales figures, selecting meaningful metrics, and calculating various breakdowns and percentages​ - which took the bulk of my time.\n",
    "Also, I spent time formatting visualizations, choosing effective design elements, and making sure of accessibility. \n"
   ]
  }
 ],
 "metadata": {
  "kernelspec": {
   "display_name": "dsi_participant",
   "language": "python",
   "name": "python3"
  },
  "language_info": {
   "codemirror_mode": {
    "name": "ipython",
    "version": 3
   },
   "file_extension": ".py",
   "mimetype": "text/x-python",
   "name": "python",
   "nbconvert_exporter": "python",
   "pygments_lexer": "ipython3",
   "version": "3.9.15"
  }
 },
 "nbformat": 4,
 "nbformat_minor": 2
}
